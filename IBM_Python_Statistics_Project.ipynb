{
  "cells": [
    {
      "cell_type": "markdown",
      "metadata": {
        "id": "view-in-github",
        "colab_type": "text"
      },
      "source": [
        "<a href=\"https://colab.research.google.com/github/ChuquEmeka/IBM-Python-Statistics-Project/blob/main/IBM_Python_Statistics_Project.ipynb\" target=\"_parent\"><img src=\"https://colab.research.google.com/assets/colab-badge.svg\" alt=\"Open In Colab\"/></a>"
      ]
    },
    {
      "cell_type": "markdown",
      "id": "897a38f3",
      "metadata": {
        "id": "897a38f3"
      },
      "source": [
        "### Name:    Edeh Emeka Nweke  \n",
        "### Project: IBM Python Statistics Project  \n",
        "### Date:      17/09/2021\n",
        "     "
      ]
    },
    {
      "cell_type": "code",
      "execution_count": null,
      "id": "96d2c87a",
      "metadata": {
        "id": "96d2c87a"
      },
      "outputs": [],
      "source": [
        "import numpy as np\n",
        "import pandas as pd\n",
        "import matplotlib.pyplot as pyplot\n",
        "import seaborn as sns\n",
        "import scipy.stats\n",
        "import statsmodels.api as sm"
      ]
    },
    {
      "cell_type": "code",
      "execution_count": null,
      "id": "a5965d60",
      "metadata": {
        "id": "a5965d60"
      },
      "outputs": [],
      "source": [
        "boston_house = pd.read_csv('C:\\\\Users\\\\EDEH EMEKA NWEKE\\Desktop\\\\boston_housing.csv')"
      ]
    },
    {
      "cell_type": "code",
      "execution_count": null,
      "id": "c84200d0",
      "metadata": {
        "id": "c84200d0",
        "outputId": "2df6dc14-9364-4e48-cfc6-6ebad08f9d6b"
      },
      "outputs": [
        {
          "data": {
            "text/html": [
              "<div>\n",
              "<style scoped>\n",
              "    .dataframe tbody tr th:only-of-type {\n",
              "        vertical-align: middle;\n",
              "    }\n",
              "\n",
              "    .dataframe tbody tr th {\n",
              "        vertical-align: top;\n",
              "    }\n",
              "\n",
              "    .dataframe thead th {\n",
              "        text-align: right;\n",
              "    }\n",
              "</style>\n",
              "<table border=\"1\" class=\"dataframe\">\n",
              "  <thead>\n",
              "    <tr style=\"text-align: right;\">\n",
              "      <th></th>\n",
              "      <th>Unnamed: 0</th>\n",
              "      <th>CRIM</th>\n",
              "      <th>ZN</th>\n",
              "      <th>INDUS</th>\n",
              "      <th>CHAS</th>\n",
              "      <th>NOX</th>\n",
              "      <th>RM</th>\n",
              "      <th>AGE</th>\n",
              "      <th>DIS</th>\n",
              "      <th>RAD</th>\n",
              "      <th>TAX</th>\n",
              "      <th>PTRATIO</th>\n",
              "      <th>LSTAT</th>\n",
              "      <th>MEDV</th>\n",
              "    </tr>\n",
              "  </thead>\n",
              "  <tbody>\n",
              "    <tr>\n",
              "      <th>0</th>\n",
              "      <td>0</td>\n",
              "      <td>0.00632</td>\n",
              "      <td>18.0</td>\n",
              "      <td>2.31</td>\n",
              "      <td>0.0</td>\n",
              "      <td>0.538</td>\n",
              "      <td>6.575</td>\n",
              "      <td>65.2</td>\n",
              "      <td>4.0900</td>\n",
              "      <td>1.0</td>\n",
              "      <td>296.0</td>\n",
              "      <td>15.3</td>\n",
              "      <td>4.98</td>\n",
              "      <td>24.0</td>\n",
              "    </tr>\n",
              "    <tr>\n",
              "      <th>1</th>\n",
              "      <td>1</td>\n",
              "      <td>0.02731</td>\n",
              "      <td>0.0</td>\n",
              "      <td>7.07</td>\n",
              "      <td>0.0</td>\n",
              "      <td>0.469</td>\n",
              "      <td>6.421</td>\n",
              "      <td>78.9</td>\n",
              "      <td>4.9671</td>\n",
              "      <td>2.0</td>\n",
              "      <td>242.0</td>\n",
              "      <td>17.8</td>\n",
              "      <td>9.14</td>\n",
              "      <td>21.6</td>\n",
              "    </tr>\n",
              "    <tr>\n",
              "      <th>2</th>\n",
              "      <td>2</td>\n",
              "      <td>0.02729</td>\n",
              "      <td>0.0</td>\n",
              "      <td>7.07</td>\n",
              "      <td>0.0</td>\n",
              "      <td>0.469</td>\n",
              "      <td>7.185</td>\n",
              "      <td>61.1</td>\n",
              "      <td>4.9671</td>\n",
              "      <td>2.0</td>\n",
              "      <td>242.0</td>\n",
              "      <td>17.8</td>\n",
              "      <td>4.03</td>\n",
              "      <td>34.7</td>\n",
              "    </tr>\n",
              "    <tr>\n",
              "      <th>3</th>\n",
              "      <td>3</td>\n",
              "      <td>0.03237</td>\n",
              "      <td>0.0</td>\n",
              "      <td>2.18</td>\n",
              "      <td>0.0</td>\n",
              "      <td>0.458</td>\n",
              "      <td>6.998</td>\n",
              "      <td>45.8</td>\n",
              "      <td>6.0622</td>\n",
              "      <td>3.0</td>\n",
              "      <td>222.0</td>\n",
              "      <td>18.7</td>\n",
              "      <td>2.94</td>\n",
              "      <td>33.4</td>\n",
              "    </tr>\n",
              "    <tr>\n",
              "      <th>4</th>\n",
              "      <td>4</td>\n",
              "      <td>0.06905</td>\n",
              "      <td>0.0</td>\n",
              "      <td>2.18</td>\n",
              "      <td>0.0</td>\n",
              "      <td>0.458</td>\n",
              "      <td>7.147</td>\n",
              "      <td>54.2</td>\n",
              "      <td>6.0622</td>\n",
              "      <td>3.0</td>\n",
              "      <td>222.0</td>\n",
              "      <td>18.7</td>\n",
              "      <td>5.33</td>\n",
              "      <td>36.2</td>\n",
              "    </tr>\n",
              "    <tr>\n",
              "      <th>...</th>\n",
              "      <td>...</td>\n",
              "      <td>...</td>\n",
              "      <td>...</td>\n",
              "      <td>...</td>\n",
              "      <td>...</td>\n",
              "      <td>...</td>\n",
              "      <td>...</td>\n",
              "      <td>...</td>\n",
              "      <td>...</td>\n",
              "      <td>...</td>\n",
              "      <td>...</td>\n",
              "      <td>...</td>\n",
              "      <td>...</td>\n",
              "      <td>...</td>\n",
              "    </tr>\n",
              "    <tr>\n",
              "      <th>501</th>\n",
              "      <td>501</td>\n",
              "      <td>0.06263</td>\n",
              "      <td>0.0</td>\n",
              "      <td>11.93</td>\n",
              "      <td>0.0</td>\n",
              "      <td>0.573</td>\n",
              "      <td>6.593</td>\n",
              "      <td>69.1</td>\n",
              "      <td>2.4786</td>\n",
              "      <td>1.0</td>\n",
              "      <td>273.0</td>\n",
              "      <td>21.0</td>\n",
              "      <td>9.67</td>\n",
              "      <td>22.4</td>\n",
              "    </tr>\n",
              "    <tr>\n",
              "      <th>502</th>\n",
              "      <td>502</td>\n",
              "      <td>0.04527</td>\n",
              "      <td>0.0</td>\n",
              "      <td>11.93</td>\n",
              "      <td>0.0</td>\n",
              "      <td>0.573</td>\n",
              "      <td>6.120</td>\n",
              "      <td>76.7</td>\n",
              "      <td>2.2875</td>\n",
              "      <td>1.0</td>\n",
              "      <td>273.0</td>\n",
              "      <td>21.0</td>\n",
              "      <td>9.08</td>\n",
              "      <td>20.6</td>\n",
              "    </tr>\n",
              "    <tr>\n",
              "      <th>503</th>\n",
              "      <td>503</td>\n",
              "      <td>0.06076</td>\n",
              "      <td>0.0</td>\n",
              "      <td>11.93</td>\n",
              "      <td>0.0</td>\n",
              "      <td>0.573</td>\n",
              "      <td>6.976</td>\n",
              "      <td>91.0</td>\n",
              "      <td>2.1675</td>\n",
              "      <td>1.0</td>\n",
              "      <td>273.0</td>\n",
              "      <td>21.0</td>\n",
              "      <td>5.64</td>\n",
              "      <td>23.9</td>\n",
              "    </tr>\n",
              "    <tr>\n",
              "      <th>504</th>\n",
              "      <td>504</td>\n",
              "      <td>0.10959</td>\n",
              "      <td>0.0</td>\n",
              "      <td>11.93</td>\n",
              "      <td>0.0</td>\n",
              "      <td>0.573</td>\n",
              "      <td>6.794</td>\n",
              "      <td>89.3</td>\n",
              "      <td>2.3889</td>\n",
              "      <td>1.0</td>\n",
              "      <td>273.0</td>\n",
              "      <td>21.0</td>\n",
              "      <td>6.48</td>\n",
              "      <td>22.0</td>\n",
              "    </tr>\n",
              "    <tr>\n",
              "      <th>505</th>\n",
              "      <td>505</td>\n",
              "      <td>0.04741</td>\n",
              "      <td>0.0</td>\n",
              "      <td>11.93</td>\n",
              "      <td>0.0</td>\n",
              "      <td>0.573</td>\n",
              "      <td>6.030</td>\n",
              "      <td>80.8</td>\n",
              "      <td>2.5050</td>\n",
              "      <td>1.0</td>\n",
              "      <td>273.0</td>\n",
              "      <td>21.0</td>\n",
              "      <td>7.88</td>\n",
              "      <td>11.9</td>\n",
              "    </tr>\n",
              "  </tbody>\n",
              "</table>\n",
              "<p>506 rows × 14 columns</p>\n",
              "</div>"
            ],
            "text/plain": [
              "     Unnamed: 0     CRIM    ZN  INDUS  CHAS    NOX     RM   AGE     DIS  RAD  \\\n",
              "0             0  0.00632  18.0   2.31   0.0  0.538  6.575  65.2  4.0900  1.0   \n",
              "1             1  0.02731   0.0   7.07   0.0  0.469  6.421  78.9  4.9671  2.0   \n",
              "2             2  0.02729   0.0   7.07   0.0  0.469  7.185  61.1  4.9671  2.0   \n",
              "3             3  0.03237   0.0   2.18   0.0  0.458  6.998  45.8  6.0622  3.0   \n",
              "4             4  0.06905   0.0   2.18   0.0  0.458  7.147  54.2  6.0622  3.0   \n",
              "..          ...      ...   ...    ...   ...    ...    ...   ...     ...  ...   \n",
              "501         501  0.06263   0.0  11.93   0.0  0.573  6.593  69.1  2.4786  1.0   \n",
              "502         502  0.04527   0.0  11.93   0.0  0.573  6.120  76.7  2.2875  1.0   \n",
              "503         503  0.06076   0.0  11.93   0.0  0.573  6.976  91.0  2.1675  1.0   \n",
              "504         504  0.10959   0.0  11.93   0.0  0.573  6.794  89.3  2.3889  1.0   \n",
              "505         505  0.04741   0.0  11.93   0.0  0.573  6.030  80.8  2.5050  1.0   \n",
              "\n",
              "       TAX  PTRATIO  LSTAT  MEDV  \n",
              "0    296.0     15.3   4.98  24.0  \n",
              "1    242.0     17.8   9.14  21.6  \n",
              "2    242.0     17.8   4.03  34.7  \n",
              "3    222.0     18.7   2.94  33.4  \n",
              "4    222.0     18.7   5.33  36.2  \n",
              "..     ...      ...    ...   ...  \n",
              "501  273.0     21.0   9.67  22.4  \n",
              "502  273.0     21.0   9.08  20.6  \n",
              "503  273.0     21.0   5.64  23.9  \n",
              "504  273.0     21.0   6.48  22.0  \n",
              "505  273.0     21.0   7.88  11.9  \n",
              "\n",
              "[506 rows x 14 columns]"
            ]
          },
          "execution_count": 3,
          "metadata": {},
          "output_type": "execute_result"
        }
      ],
      "source": [
        "boston_house"
      ]
    },
    {
      "cell_type": "markdown",
      "id": "a52d9fdc",
      "metadata": {
        "id": "a52d9fdc"
      },
      "source": [
        "The following describes the dataset variables:  \n",
        "·      CRIM - per capita crime rate by town  \n",
        "·      ZN - proportion of residential land zoned for lots over 25,000 sq.ft.  \n",
        "·      INDUS - proportion of non-retail business acres per town.  \n",
        "·      CHAS - Charles River dummy variable (1 if tract bounds river; 0   otherwise)  \n",
        "·      NOX - nitric oxides concentration (parts per 10 million)  \n",
        "·      RM - average number of rooms per dwelling  \n",
        "·      AGE - proportion of owner-occupied units built prior to 1940  \n",
        "·      DIS - weighted distances to five Boston employment centres  \n",
        "·      RAD - index of accessibility to radial highways  \n",
        "·      TAX - full-value property-tax rate per 10,000 dollars      \n",
        "·      PTRATIO - pupil-teacher ratio by town  \n",
        "·      LSTAT - % lower status of the population  \n",
        "·      MEDV - Median value of owner-occupied homes in $1000's  \n",
        "\n"
      ]
    },
    {
      "cell_type": "markdown",
      "id": "8d031e56",
      "metadata": {
        "id": "8d031e56"
      },
      "source": [
        "Task 4: Generate Descriptive Statistics and Visualizations  \n",
        "For all visualizations, please include a title in each graph and appropriate labels  \n",
        "\n",
        "Generate the following and explain your findings:  \n",
        "\n",
        "For the \"Median value of owner-occupied homes\" provide a boxplot  \n",
        "\n",
        "Provide a  histogram for the Charles river variable  \n",
        "\n",
        "Provide a boxplot for the MEDV variable vs the AGE variable. (Discretize the age variable into three groups of 35 years and younger, between 35 and 70 years and 70 years and older)  \n",
        "\n",
        "Provide a scatter plot to show the relationship between Nitric oxide concentrations and the proportion of non-retail business acres per town. What can you say about the relationship?  \n",
        "\n",
        "Create a histogram for the pupil to teacher ratio variable "
      ]
    },
    {
      "cell_type": "code",
      "execution_count": null,
      "id": "13426dad",
      "metadata": {
        "id": "13426dad",
        "outputId": "812d409d-395d-4877-e77d-5d46963f5cd5"
      },
      "outputs": [
        {
          "data": {
            "text/html": [
              "<div>\n",
              "<style scoped>\n",
              "    .dataframe tbody tr th:only-of-type {\n",
              "        vertical-align: middle;\n",
              "    }\n",
              "\n",
              "    .dataframe tbody tr th {\n",
              "        vertical-align: top;\n",
              "    }\n",
              "\n",
              "    .dataframe thead th {\n",
              "        text-align: right;\n",
              "    }\n",
              "</style>\n",
              "<table border=\"1\" class=\"dataframe\">\n",
              "  <thead>\n",
              "    <tr style=\"text-align: right;\">\n",
              "      <th></th>\n",
              "      <th>Unnamed: 0</th>\n",
              "      <th>CRIM</th>\n",
              "      <th>ZN</th>\n",
              "      <th>INDUS</th>\n",
              "      <th>CHAS</th>\n",
              "      <th>NOX</th>\n",
              "      <th>RM</th>\n",
              "      <th>AGE</th>\n",
              "      <th>DIS</th>\n",
              "      <th>RAD</th>\n",
              "      <th>TAX</th>\n",
              "      <th>PTRATIO</th>\n",
              "      <th>LSTAT</th>\n",
              "      <th>MEDV</th>\n",
              "    </tr>\n",
              "  </thead>\n",
              "  <tbody>\n",
              "    <tr>\n",
              "      <th>count</th>\n",
              "      <td>506.000000</td>\n",
              "      <td>506.000000</td>\n",
              "      <td>506.000000</td>\n",
              "      <td>506.000000</td>\n",
              "      <td>506.000000</td>\n",
              "      <td>506.000000</td>\n",
              "      <td>506.000000</td>\n",
              "      <td>506.000000</td>\n",
              "      <td>506.000000</td>\n",
              "      <td>506.000000</td>\n",
              "      <td>506.000000</td>\n",
              "      <td>506.000000</td>\n",
              "      <td>506.000000</td>\n",
              "      <td>506.000000</td>\n",
              "    </tr>\n",
              "    <tr>\n",
              "      <th>mean</th>\n",
              "      <td>252.500000</td>\n",
              "      <td>3.613524</td>\n",
              "      <td>11.363636</td>\n",
              "      <td>11.136779</td>\n",
              "      <td>0.069170</td>\n",
              "      <td>0.554695</td>\n",
              "      <td>6.284634</td>\n",
              "      <td>68.574901</td>\n",
              "      <td>3.795043</td>\n",
              "      <td>9.549407</td>\n",
              "      <td>408.237154</td>\n",
              "      <td>18.455534</td>\n",
              "      <td>12.653063</td>\n",
              "      <td>22.532806</td>\n",
              "    </tr>\n",
              "    <tr>\n",
              "      <th>std</th>\n",
              "      <td>146.213884</td>\n",
              "      <td>8.601545</td>\n",
              "      <td>23.322453</td>\n",
              "      <td>6.860353</td>\n",
              "      <td>0.253994</td>\n",
              "      <td>0.115878</td>\n",
              "      <td>0.702617</td>\n",
              "      <td>28.148861</td>\n",
              "      <td>2.105710</td>\n",
              "      <td>8.707259</td>\n",
              "      <td>168.537116</td>\n",
              "      <td>2.164946</td>\n",
              "      <td>7.141062</td>\n",
              "      <td>9.197104</td>\n",
              "    </tr>\n",
              "    <tr>\n",
              "      <th>min</th>\n",
              "      <td>0.000000</td>\n",
              "      <td>0.006320</td>\n",
              "      <td>0.000000</td>\n",
              "      <td>0.460000</td>\n",
              "      <td>0.000000</td>\n",
              "      <td>0.385000</td>\n",
              "      <td>3.561000</td>\n",
              "      <td>2.900000</td>\n",
              "      <td>1.129600</td>\n",
              "      <td>1.000000</td>\n",
              "      <td>187.000000</td>\n",
              "      <td>12.600000</td>\n",
              "      <td>1.730000</td>\n",
              "      <td>5.000000</td>\n",
              "    </tr>\n",
              "    <tr>\n",
              "      <th>25%</th>\n",
              "      <td>126.250000</td>\n",
              "      <td>0.082045</td>\n",
              "      <td>0.000000</td>\n",
              "      <td>5.190000</td>\n",
              "      <td>0.000000</td>\n",
              "      <td>0.449000</td>\n",
              "      <td>5.885500</td>\n",
              "      <td>45.025000</td>\n",
              "      <td>2.100175</td>\n",
              "      <td>4.000000</td>\n",
              "      <td>279.000000</td>\n",
              "      <td>17.400000</td>\n",
              "      <td>6.950000</td>\n",
              "      <td>17.025000</td>\n",
              "    </tr>\n",
              "    <tr>\n",
              "      <th>50%</th>\n",
              "      <td>252.500000</td>\n",
              "      <td>0.256510</td>\n",
              "      <td>0.000000</td>\n",
              "      <td>9.690000</td>\n",
              "      <td>0.000000</td>\n",
              "      <td>0.538000</td>\n",
              "      <td>6.208500</td>\n",
              "      <td>77.500000</td>\n",
              "      <td>3.207450</td>\n",
              "      <td>5.000000</td>\n",
              "      <td>330.000000</td>\n",
              "      <td>19.050000</td>\n",
              "      <td>11.360000</td>\n",
              "      <td>21.200000</td>\n",
              "    </tr>\n",
              "    <tr>\n",
              "      <th>75%</th>\n",
              "      <td>378.750000</td>\n",
              "      <td>3.677083</td>\n",
              "      <td>12.500000</td>\n",
              "      <td>18.100000</td>\n",
              "      <td>0.000000</td>\n",
              "      <td>0.624000</td>\n",
              "      <td>6.623500</td>\n",
              "      <td>94.075000</td>\n",
              "      <td>5.188425</td>\n",
              "      <td>24.000000</td>\n",
              "      <td>666.000000</td>\n",
              "      <td>20.200000</td>\n",
              "      <td>16.955000</td>\n",
              "      <td>25.000000</td>\n",
              "    </tr>\n",
              "    <tr>\n",
              "      <th>max</th>\n",
              "      <td>505.000000</td>\n",
              "      <td>88.976200</td>\n",
              "      <td>100.000000</td>\n",
              "      <td>27.740000</td>\n",
              "      <td>1.000000</td>\n",
              "      <td>0.871000</td>\n",
              "      <td>8.780000</td>\n",
              "      <td>100.000000</td>\n",
              "      <td>12.126500</td>\n",
              "      <td>24.000000</td>\n",
              "      <td>711.000000</td>\n",
              "      <td>22.000000</td>\n",
              "      <td>37.970000</td>\n",
              "      <td>50.000000</td>\n",
              "    </tr>\n",
              "  </tbody>\n",
              "</table>\n",
              "</div>"
            ],
            "text/plain": [
              "       Unnamed: 0        CRIM          ZN       INDUS        CHAS         NOX  \\\n",
              "count  506.000000  506.000000  506.000000  506.000000  506.000000  506.000000   \n",
              "mean   252.500000    3.613524   11.363636   11.136779    0.069170    0.554695   \n",
              "std    146.213884    8.601545   23.322453    6.860353    0.253994    0.115878   \n",
              "min      0.000000    0.006320    0.000000    0.460000    0.000000    0.385000   \n",
              "25%    126.250000    0.082045    0.000000    5.190000    0.000000    0.449000   \n",
              "50%    252.500000    0.256510    0.000000    9.690000    0.000000    0.538000   \n",
              "75%    378.750000    3.677083   12.500000   18.100000    0.000000    0.624000   \n",
              "max    505.000000   88.976200  100.000000   27.740000    1.000000    0.871000   \n",
              "\n",
              "               RM         AGE         DIS         RAD         TAX     PTRATIO  \\\n",
              "count  506.000000  506.000000  506.000000  506.000000  506.000000  506.000000   \n",
              "mean     6.284634   68.574901    3.795043    9.549407  408.237154   18.455534   \n",
              "std      0.702617   28.148861    2.105710    8.707259  168.537116    2.164946   \n",
              "min      3.561000    2.900000    1.129600    1.000000  187.000000   12.600000   \n",
              "25%      5.885500   45.025000    2.100175    4.000000  279.000000   17.400000   \n",
              "50%      6.208500   77.500000    3.207450    5.000000  330.000000   19.050000   \n",
              "75%      6.623500   94.075000    5.188425   24.000000  666.000000   20.200000   \n",
              "max      8.780000  100.000000   12.126500   24.000000  711.000000   22.000000   \n",
              "\n",
              "            LSTAT        MEDV  \n",
              "count  506.000000  506.000000  \n",
              "mean    12.653063   22.532806  \n",
              "std      7.141062    9.197104  \n",
              "min      1.730000    5.000000  \n",
              "25%      6.950000   17.025000  \n",
              "50%     11.360000   21.200000  \n",
              "75%     16.955000   25.000000  \n",
              "max     37.970000   50.000000  "
            ]
          },
          "execution_count": 4,
          "metadata": {},
          "output_type": "execute_result"
        }
      ],
      "source": [
        "boston_house.describe() #Produce a descriptive statistics table"
      ]
    },
    {
      "cell_type": "markdown",
      "id": "f7db4ebf",
      "metadata": {
        "id": "f7db4ebf"
      },
      "source": [
        "### Boxplot for  \"Median value of owner-occupied homes\""
      ]
    },
    {
      "cell_type": "code",
      "execution_count": null,
      "id": "91e90b50",
      "metadata": {
        "id": "91e90b50",
        "outputId": "fb4419ca-d5e2-4bb3-90fd-dac3c1617f0e"
      },
      "outputs": [
        {
          "data": {
            "image/png": "[encoded data removed]",
            "text/plain": [
              "<Figure size 432x288 with 1 Axes>"
            ]
          },
          "metadata": {
            "needs_background": "light"
          },
          "output_type": "display_data"
        }
      ],
      "source": [
        "boxplot = boston_house.boxplot(column=['MEDV'])"
      ]
    },
    {
      "cell_type": "markdown",
      "id": "e205b413",
      "metadata": {
        "id": "e205b413"
      },
      "source": [
        "From the above boxplot, it can be seen that the total outliers are approximately 18 which accounts for \n",
        "about 36% of the total MEDV value."
      ]
    },
    {
      "cell_type": "markdown",
      "id": "2ac54c49",
      "metadata": {
        "id": "2ac54c49"
      },
      "source": [
        "### Histogram for CHAS"
      ]
    },
    {
      "cell_type": "code",
      "execution_count": null,
      "id": "907aa5c8",
      "metadata": {
        "id": "907aa5c8",
        "outputId": "d33ced62-d36f-4024-e2b2-809e14286869"
      },
      "outputs": [
        {
          "data": {
            "text/plain": [
              "(array([471.,   0.,   0.,   0.,   0.,   0.,   0.,   0.,   0.,  35.]),\n",
              " array([0. , 0.1, 0.2, 0.3, 0.4, 0.5, 0.6, 0.7, 0.8, 0.9, 1. ]),\n",
              " <BarContainer object of 10 artists>)"
            ]
          },
          "execution_count": 6,
          "metadata": {},
          "output_type": "execute_result"
        },
        {
          "data": {
            "image/png": "[encoded data removed]",
            "text/plain": [
              "<Figure size 432x288 with 1 Axes>"
            ]
          },
          "metadata": {
            "needs_background": "light"
          },
          "output_type": "display_data"
        }
      ],
      "source": [
        "pyplot.hist(boston_house['CHAS'])"
      ]
    },
    {
      "cell_type": "code",
      "execution_count": null,
      "id": "1c6ec449",
      "metadata": {
        "id": "1c6ec449"
      },
      "outputs": [],
      "source": [
        "younger_35 = boston_house.loc[boston_house.AGE <=35 ]\n",
        "#age variable groups of 35 years or younger\n"
      ]
    },
    {
      "cell_type": "code",
      "execution_count": null,
      "id": "6e800cce",
      "metadata": {
        "id": "6e800cce",
        "outputId": "d4970d1b-76a8-45c0-ad50-21b1aade1ad5"
      },
      "outputs": [
        {
          "data": {
            "text/html": [
              "<div>\n",
              "<style scoped>\n",
              "    .dataframe tbody tr th:only-of-type {\n",
              "        vertical-align: middle;\n",
              "    }\n",
              "\n",
              "    .dataframe tbody tr th {\n",
              "        vertical-align: top;\n",
              "    }\n",
              "\n",
              "    .dataframe thead th {\n",
              "        text-align: right;\n",
              "    }\n",
              "</style>\n",
              "<table border=\"1\" class=\"dataframe\">\n",
              "  <thead>\n",
              "    <tr style=\"text-align: right;\">\n",
              "      <th></th>\n",
              "      <th>Unnamed: 0</th>\n",
              "      <th>CRIM</th>\n",
              "      <th>ZN</th>\n",
              "      <th>INDUS</th>\n",
              "      <th>CHAS</th>\n",
              "      <th>NOX</th>\n",
              "      <th>RM</th>\n",
              "      <th>AGE</th>\n",
              "      <th>DIS</th>\n",
              "      <th>RAD</th>\n",
              "      <th>TAX</th>\n",
              "      <th>PTRATIO</th>\n",
              "      <th>LSTAT</th>\n",
              "      <th>MEDV</th>\n",
              "    </tr>\n",
              "  </thead>\n",
              "  <tbody>\n",
              "    <tr>\n",
              "      <th>16</th>\n",
              "      <td>16</td>\n",
              "      <td>1.05393</td>\n",
              "      <td>0.0</td>\n",
              "      <td>8.14</td>\n",
              "      <td>0.0</td>\n",
              "      <td>0.538</td>\n",
              "      <td>5.935</td>\n",
              "      <td>29.3</td>\n",
              "      <td>4.4986</td>\n",
              "      <td>4.0</td>\n",
              "      <td>307.0</td>\n",
              "      <td>21.0</td>\n",
              "      <td>6.58</td>\n",
              "      <td>23.1</td>\n",
              "    </tr>\n",
              "    <tr>\n",
              "      <th>38</th>\n",
              "      <td>38</td>\n",
              "      <td>0.17505</td>\n",
              "      <td>0.0</td>\n",
              "      <td>5.96</td>\n",
              "      <td>0.0</td>\n",
              "      <td>0.499</td>\n",
              "      <td>5.966</td>\n",
              "      <td>30.2</td>\n",
              "      <td>3.8473</td>\n",
              "      <td>5.0</td>\n",
              "      <td>279.0</td>\n",
              "      <td>19.2</td>\n",
              "      <td>10.13</td>\n",
              "      <td>24.7</td>\n",
              "    </tr>\n",
              "    <tr>\n",
              "      <th>39</th>\n",
              "      <td>39</td>\n",
              "      <td>0.02763</td>\n",
              "      <td>75.0</td>\n",
              "      <td>2.95</td>\n",
              "      <td>0.0</td>\n",
              "      <td>0.428</td>\n",
              "      <td>6.595</td>\n",
              "      <td>21.8</td>\n",
              "      <td>5.4011</td>\n",
              "      <td>3.0</td>\n",
              "      <td>252.0</td>\n",
              "      <td>18.3</td>\n",
              "      <td>4.32</td>\n",
              "      <td>30.8</td>\n",
              "    </tr>\n",
              "    <tr>\n",
              "      <th>40</th>\n",
              "      <td>40</td>\n",
              "      <td>0.03359</td>\n",
              "      <td>75.0</td>\n",
              "      <td>2.95</td>\n",
              "      <td>0.0</td>\n",
              "      <td>0.428</td>\n",
              "      <td>7.024</td>\n",
              "      <td>15.8</td>\n",
              "      <td>5.4011</td>\n",
              "      <td>3.0</td>\n",
              "      <td>252.0</td>\n",
              "      <td>18.3</td>\n",
              "      <td>1.98</td>\n",
              "      <td>34.9</td>\n",
              "    </tr>\n",
              "    <tr>\n",
              "      <th>41</th>\n",
              "      <td>41</td>\n",
              "      <td>0.12744</td>\n",
              "      <td>0.0</td>\n",
              "      <td>6.91</td>\n",
              "      <td>0.0</td>\n",
              "      <td>0.448</td>\n",
              "      <td>6.770</td>\n",
              "      <td>2.9</td>\n",
              "      <td>5.7209</td>\n",
              "      <td>3.0</td>\n",
              "      <td>233.0</td>\n",
              "      <td>17.9</td>\n",
              "      <td>4.84</td>\n",
              "      <td>26.6</td>\n",
              "    </tr>\n",
              "    <tr>\n",
              "      <th>...</th>\n",
              "      <td>...</td>\n",
              "      <td>...</td>\n",
              "      <td>...</td>\n",
              "      <td>...</td>\n",
              "      <td>...</td>\n",
              "      <td>...</td>\n",
              "      <td>...</td>\n",
              "      <td>...</td>\n",
              "      <td>...</td>\n",
              "      <td>...</td>\n",
              "      <td>...</td>\n",
              "      <td>...</td>\n",
              "      <td>...</td>\n",
              "      <td>...</td>\n",
              "    </tr>\n",
              "    <tr>\n",
              "      <th>349</th>\n",
              "      <td>349</td>\n",
              "      <td>0.02899</td>\n",
              "      <td>40.0</td>\n",
              "      <td>1.25</td>\n",
              "      <td>0.0</td>\n",
              "      <td>0.429</td>\n",
              "      <td>6.939</td>\n",
              "      <td>34.5</td>\n",
              "      <td>8.7921</td>\n",
              "      <td>1.0</td>\n",
              "      <td>335.0</td>\n",
              "      <td>19.7</td>\n",
              "      <td>5.89</td>\n",
              "      <td>26.6</td>\n",
              "    </tr>\n",
              "    <tr>\n",
              "      <th>352</th>\n",
              "      <td>352</td>\n",
              "      <td>0.07244</td>\n",
              "      <td>60.0</td>\n",
              "      <td>1.69</td>\n",
              "      <td>0.0</td>\n",
              "      <td>0.411</td>\n",
              "      <td>5.884</td>\n",
              "      <td>18.5</td>\n",
              "      <td>10.7103</td>\n",
              "      <td>4.0</td>\n",
              "      <td>411.0</td>\n",
              "      <td>18.3</td>\n",
              "      <td>7.79</td>\n",
              "      <td>18.6</td>\n",
              "    </tr>\n",
              "    <tr>\n",
              "      <th>354</th>\n",
              "      <td>354</td>\n",
              "      <td>0.04301</td>\n",
              "      <td>80.0</td>\n",
              "      <td>1.91</td>\n",
              "      <td>0.0</td>\n",
              "      <td>0.413</td>\n",
              "      <td>5.663</td>\n",
              "      <td>21.9</td>\n",
              "      <td>10.5857</td>\n",
              "      <td>4.0</td>\n",
              "      <td>334.0</td>\n",
              "      <td>22.0</td>\n",
              "      <td>8.05</td>\n",
              "      <td>18.2</td>\n",
              "    </tr>\n",
              "    <tr>\n",
              "      <th>355</th>\n",
              "      <td>355</td>\n",
              "      <td>0.10659</td>\n",
              "      <td>80.0</td>\n",
              "      <td>1.91</td>\n",
              "      <td>0.0</td>\n",
              "      <td>0.413</td>\n",
              "      <td>5.936</td>\n",
              "      <td>19.5</td>\n",
              "      <td>10.5857</td>\n",
              "      <td>4.0</td>\n",
              "      <td>334.0</td>\n",
              "      <td>22.0</td>\n",
              "      <td>5.57</td>\n",
              "      <td>20.6</td>\n",
              "    </tr>\n",
              "    <tr>\n",
              "      <th>495</th>\n",
              "      <td>495</td>\n",
              "      <td>0.17899</td>\n",
              "      <td>0.0</td>\n",
              "      <td>9.69</td>\n",
              "      <td>0.0</td>\n",
              "      <td>0.585</td>\n",
              "      <td>5.670</td>\n",
              "      <td>28.8</td>\n",
              "      <td>2.7986</td>\n",
              "      <td>6.0</td>\n",
              "      <td>391.0</td>\n",
              "      <td>19.2</td>\n",
              "      <td>17.60</td>\n",
              "      <td>23.1</td>\n",
              "    </tr>\n",
              "  </tbody>\n",
              "</table>\n",
              "<p>91 rows × 14 columns</p>\n",
              "</div>"
            ],
            "text/plain": [
              "     Unnamed: 0     CRIM    ZN  INDUS  CHAS    NOX     RM   AGE      DIS  RAD  \\\n",
              "16           16  1.05393   0.0   8.14   0.0  0.538  5.935  29.3   4.4986  4.0   \n",
              "38           38  0.17505   0.0   5.96   0.0  0.499  5.966  30.2   3.8473  5.0   \n",
              "39           39  0.02763  75.0   2.95   0.0  0.428  6.595  21.8   5.4011  3.0   \n",
              "40           40  0.03359  75.0   2.95   0.0  0.428  7.024  15.8   5.4011  3.0   \n",
              "41           41  0.12744   0.0   6.91   0.0  0.448  6.770   2.9   5.7209  3.0   \n",
              "..          ...      ...   ...    ...   ...    ...    ...   ...      ...  ...   \n",
              "349         349  0.02899  40.0   1.25   0.0  0.429  6.939  34.5   8.7921  1.0   \n",
              "352         352  0.07244  60.0   1.69   0.0  0.411  5.884  18.5  10.7103  4.0   \n",
              "354         354  0.04301  80.0   1.91   0.0  0.413  5.663  21.9  10.5857  4.0   \n",
              "355         355  0.10659  80.0   1.91   0.0  0.413  5.936  19.5  10.5857  4.0   \n",
              "495         495  0.17899   0.0   9.69   0.0  0.585  5.670  28.8   2.7986  6.0   \n",
              "\n",
              "       TAX  PTRATIO  LSTAT  MEDV  \n",
              "16   307.0     21.0   6.58  23.1  \n",
              "38   279.0     19.2  10.13  24.7  \n",
              "39   252.0     18.3   4.32  30.8  \n",
              "40   252.0     18.3   1.98  34.9  \n",
              "41   233.0     17.9   4.84  26.6  \n",
              "..     ...      ...    ...   ...  \n",
              "349  335.0     19.7   5.89  26.6  \n",
              "352  411.0     18.3   7.79  18.6  \n",
              "354  334.0     22.0   8.05  18.2  \n",
              "355  334.0     22.0   5.57  20.6  \n",
              "495  391.0     19.2  17.60  23.1  \n",
              "\n",
              "[91 rows x 14 columns]"
            ]
          },
          "execution_count": 8,
          "metadata": {},
          "output_type": "execute_result"
        }
      ],
      "source": [
        "younger_35"
      ]
    },
    {
      "cell_type": "code",
      "execution_count": null,
      "id": "249cbfba",
      "metadata": {
        "id": "249cbfba"
      },
      "outputs": [],
      "source": [
        "younger_70 = boston_house.loc[(boston_house.AGE >35) & (boston_house.AGE <70) ]\n",
        "#age variable groups older than 35 years but younger than 70 years"
      ]
    },
    {
      "cell_type": "code",
      "execution_count": null,
      "id": "98808cff",
      "metadata": {
        "id": "98808cff",
        "outputId": "cfc5639a-33c1-41fc-e7fa-fd793eb1be25"
      },
      "outputs": [
        {
          "data": {
            "text/html": [
              "<div>\n",
              "<style scoped>\n",
              "    .dataframe tbody tr th:only-of-type {\n",
              "        vertical-align: middle;\n",
              "    }\n",
              "\n",
              "    .dataframe tbody tr th {\n",
              "        vertical-align: top;\n",
              "    }\n",
              "\n",
              "    .dataframe thead th {\n",
              "        text-align: right;\n",
              "    }\n",
              "</style>\n",
              "<table border=\"1\" class=\"dataframe\">\n",
              "  <thead>\n",
              "    <tr style=\"text-align: right;\">\n",
              "      <th></th>\n",
              "      <th>Unnamed: 0</th>\n",
              "      <th>CRIM</th>\n",
              "      <th>ZN</th>\n",
              "      <th>INDUS</th>\n",
              "      <th>CHAS</th>\n",
              "      <th>NOX</th>\n",
              "      <th>RM</th>\n",
              "      <th>AGE</th>\n",
              "      <th>DIS</th>\n",
              "      <th>RAD</th>\n",
              "      <th>TAX</th>\n",
              "      <th>PTRATIO</th>\n",
              "      <th>LSTAT</th>\n",
              "      <th>MEDV</th>\n",
              "    </tr>\n",
              "  </thead>\n",
              "  <tbody>\n",
              "    <tr>\n",
              "      <th>0</th>\n",
              "      <td>0</td>\n",
              "      <td>0.00632</td>\n",
              "      <td>18.0</td>\n",
              "      <td>2.31</td>\n",
              "      <td>0.0</td>\n",
              "      <td>0.538</td>\n",
              "      <td>6.575</td>\n",
              "      <td>65.2</td>\n",
              "      <td>4.0900</td>\n",
              "      <td>1.0</td>\n",
              "      <td>296.0</td>\n",
              "      <td>15.3</td>\n",
              "      <td>4.98</td>\n",
              "      <td>24.0</td>\n",
              "    </tr>\n",
              "    <tr>\n",
              "      <th>2</th>\n",
              "      <td>2</td>\n",
              "      <td>0.02729</td>\n",
              "      <td>0.0</td>\n",
              "      <td>7.07</td>\n",
              "      <td>0.0</td>\n",
              "      <td>0.469</td>\n",
              "      <td>7.185</td>\n",
              "      <td>61.1</td>\n",
              "      <td>4.9671</td>\n",
              "      <td>2.0</td>\n",
              "      <td>242.0</td>\n",
              "      <td>17.8</td>\n",
              "      <td>4.03</td>\n",
              "      <td>34.7</td>\n",
              "    </tr>\n",
              "    <tr>\n",
              "      <th>3</th>\n",
              "      <td>3</td>\n",
              "      <td>0.03237</td>\n",
              "      <td>0.0</td>\n",
              "      <td>2.18</td>\n",
              "      <td>0.0</td>\n",
              "      <td>0.458</td>\n",
              "      <td>6.998</td>\n",
              "      <td>45.8</td>\n",
              "      <td>6.0622</td>\n",
              "      <td>3.0</td>\n",
              "      <td>222.0</td>\n",
              "      <td>18.7</td>\n",
              "      <td>2.94</td>\n",
              "      <td>33.4</td>\n",
              "    </tr>\n",
              "    <tr>\n",
              "      <th>4</th>\n",
              "      <td>4</td>\n",
              "      <td>0.06905</td>\n",
              "      <td>0.0</td>\n",
              "      <td>2.18</td>\n",
              "      <td>0.0</td>\n",
              "      <td>0.458</td>\n",
              "      <td>7.147</td>\n",
              "      <td>54.2</td>\n",
              "      <td>6.0622</td>\n",
              "      <td>3.0</td>\n",
              "      <td>222.0</td>\n",
              "      <td>18.7</td>\n",
              "      <td>5.33</td>\n",
              "      <td>36.2</td>\n",
              "    </tr>\n",
              "    <tr>\n",
              "      <th>5</th>\n",
              "      <td>5</td>\n",
              "      <td>0.02985</td>\n",
              "      <td>0.0</td>\n",
              "      <td>2.18</td>\n",
              "      <td>0.0</td>\n",
              "      <td>0.458</td>\n",
              "      <td>6.430</td>\n",
              "      <td>58.7</td>\n",
              "      <td>6.0622</td>\n",
              "      <td>3.0</td>\n",
              "      <td>222.0</td>\n",
              "      <td>18.7</td>\n",
              "      <td>5.21</td>\n",
              "      <td>28.7</td>\n",
              "    </tr>\n",
              "    <tr>\n",
              "      <th>...</th>\n",
              "      <td>...</td>\n",
              "      <td>...</td>\n",
              "      <td>...</td>\n",
              "      <td>...</td>\n",
              "      <td>...</td>\n",
              "      <td>...</td>\n",
              "      <td>...</td>\n",
              "      <td>...</td>\n",
              "      <td>...</td>\n",
              "      <td>...</td>\n",
              "      <td>...</td>\n",
              "      <td>...</td>\n",
              "      <td>...</td>\n",
              "      <td>...</td>\n",
              "    </tr>\n",
              "    <tr>\n",
              "      <th>487</th>\n",
              "      <td>487</td>\n",
              "      <td>4.83567</td>\n",
              "      <td>0.0</td>\n",
              "      <td>18.10</td>\n",
              "      <td>0.0</td>\n",
              "      <td>0.583</td>\n",
              "      <td>5.905</td>\n",
              "      <td>53.2</td>\n",
              "      <td>3.1523</td>\n",
              "      <td>24.0</td>\n",
              "      <td>666.0</td>\n",
              "      <td>20.2</td>\n",
              "      <td>11.45</td>\n",
              "      <td>20.6</td>\n",
              "    </tr>\n",
              "    <tr>\n",
              "      <th>493</th>\n",
              "      <td>493</td>\n",
              "      <td>0.17331</td>\n",
              "      <td>0.0</td>\n",
              "      <td>9.69</td>\n",
              "      <td>0.0</td>\n",
              "      <td>0.585</td>\n",
              "      <td>5.707</td>\n",
              "      <td>54.0</td>\n",
              "      <td>2.3817</td>\n",
              "      <td>6.0</td>\n",
              "      <td>391.0</td>\n",
              "      <td>19.2</td>\n",
              "      <td>12.01</td>\n",
              "      <td>21.8</td>\n",
              "    </tr>\n",
              "    <tr>\n",
              "      <th>494</th>\n",
              "      <td>494</td>\n",
              "      <td>0.27957</td>\n",
              "      <td>0.0</td>\n",
              "      <td>9.69</td>\n",
              "      <td>0.0</td>\n",
              "      <td>0.585</td>\n",
              "      <td>5.926</td>\n",
              "      <td>42.6</td>\n",
              "      <td>2.3817</td>\n",
              "      <td>6.0</td>\n",
              "      <td>391.0</td>\n",
              "      <td>19.2</td>\n",
              "      <td>13.59</td>\n",
              "      <td>24.5</td>\n",
              "    </tr>\n",
              "    <tr>\n",
              "      <th>498</th>\n",
              "      <td>498</td>\n",
              "      <td>0.23912</td>\n",
              "      <td>0.0</td>\n",
              "      <td>9.69</td>\n",
              "      <td>0.0</td>\n",
              "      <td>0.585</td>\n",
              "      <td>6.019</td>\n",
              "      <td>65.3</td>\n",
              "      <td>2.4091</td>\n",
              "      <td>6.0</td>\n",
              "      <td>391.0</td>\n",
              "      <td>19.2</td>\n",
              "      <td>12.92</td>\n",
              "      <td>21.2</td>\n",
              "    </tr>\n",
              "    <tr>\n",
              "      <th>501</th>\n",
              "      <td>501</td>\n",
              "      <td>0.06263</td>\n",
              "      <td>0.0</td>\n",
              "      <td>11.93</td>\n",
              "      <td>0.0</td>\n",
              "      <td>0.573</td>\n",
              "      <td>6.593</td>\n",
              "      <td>69.1</td>\n",
              "      <td>2.4786</td>\n",
              "      <td>1.0</td>\n",
              "      <td>273.0</td>\n",
              "      <td>21.0</td>\n",
              "      <td>9.67</td>\n",
              "      <td>22.4</td>\n",
              "    </tr>\n",
              "  </tbody>\n",
              "</table>\n",
              "<p>128 rows × 14 columns</p>\n",
              "</div>"
            ],
            "text/plain": [
              "     Unnamed: 0     CRIM    ZN  INDUS  CHAS    NOX     RM   AGE     DIS   RAD  \\\n",
              "0             0  0.00632  18.0   2.31   0.0  0.538  6.575  65.2  4.0900   1.0   \n",
              "2             2  0.02729   0.0   7.07   0.0  0.469  7.185  61.1  4.9671   2.0   \n",
              "3             3  0.03237   0.0   2.18   0.0  0.458  6.998  45.8  6.0622   3.0   \n",
              "4             4  0.06905   0.0   2.18   0.0  0.458  7.147  54.2  6.0622   3.0   \n",
              "5             5  0.02985   0.0   2.18   0.0  0.458  6.430  58.7  6.0622   3.0   \n",
              "..          ...      ...   ...    ...   ...    ...    ...   ...     ...   ...   \n",
              "487         487  4.83567   0.0  18.10   0.0  0.583  5.905  53.2  3.1523  24.0   \n",
              "493         493  0.17331   0.0   9.69   0.0  0.585  5.707  54.0  2.3817   6.0   \n",
              "494         494  0.27957   0.0   9.69   0.0  0.585  5.926  42.6  2.3817   6.0   \n",
              "498         498  0.23912   0.0   9.69   0.0  0.585  6.019  65.3  2.4091   6.0   \n",
              "501         501  0.06263   0.0  11.93   0.0  0.573  6.593  69.1  2.4786   1.0   \n",
              "\n",
              "       TAX  PTRATIO  LSTAT  MEDV  \n",
              "0    296.0     15.3   4.98  24.0  \n",
              "2    242.0     17.8   4.03  34.7  \n",
              "3    222.0     18.7   2.94  33.4  \n",
              "4    222.0     18.7   5.33  36.2  \n",
              "5    222.0     18.7   5.21  28.7  \n",
              "..     ...      ...    ...   ...  \n",
              "487  666.0     20.2  11.45  20.6  \n",
              "493  391.0     19.2  12.01  21.8  \n",
              "494  391.0     19.2  13.59  24.5  \n",
              "498  391.0     19.2  12.92  21.2  \n",
              "501  273.0     21.0   9.67  22.4  \n",
              "\n",
              "[128 rows x 14 columns]"
            ]
          },
          "execution_count": 10,
          "metadata": {},
          "output_type": "execute_result"
        }
      ],
      "source": [
        "younger_70\n"
      ]
    },
    {
      "cell_type": "code",
      "execution_count": null,
      "id": "a2a397a2",
      "metadata": {
        "id": "a2a397a2",
        "outputId": "e3493627-c636-426e-d9ba-bc77876cfa7a"
      },
      "outputs": [
        {
          "data": {
            "text/html": [
              "<div>\n",
              "<style scoped>\n",
              "    .dataframe tbody tr th:only-of-type {\n",
              "        vertical-align: middle;\n",
              "    }\n",
              "\n",
              "    .dataframe tbody tr th {\n",
              "        vertical-align: top;\n",
              "    }\n",
              "\n",
              "    .dataframe thead th {\n",
              "        text-align: right;\n",
              "    }\n",
              "</style>\n",
              "<table border=\"1\" class=\"dataframe\">\n",
              "  <thead>\n",
              "    <tr style=\"text-align: right;\">\n",
              "      <th></th>\n",
              "      <th>Unnamed: 0</th>\n",
              "      <th>CRIM</th>\n",
              "      <th>ZN</th>\n",
              "      <th>INDUS</th>\n",
              "      <th>CHAS</th>\n",
              "      <th>NOX</th>\n",
              "      <th>RM</th>\n",
              "      <th>AGE</th>\n",
              "      <th>DIS</th>\n",
              "      <th>RAD</th>\n",
              "      <th>TAX</th>\n",
              "      <th>PTRATIO</th>\n",
              "      <th>LSTAT</th>\n",
              "      <th>MEDV</th>\n",
              "    </tr>\n",
              "  </thead>\n",
              "  <tbody>\n",
              "    <tr>\n",
              "      <th>1</th>\n",
              "      <td>1</td>\n",
              "      <td>0.02731</td>\n",
              "      <td>0.0</td>\n",
              "      <td>7.07</td>\n",
              "      <td>0.0</td>\n",
              "      <td>0.469</td>\n",
              "      <td>6.421</td>\n",
              "      <td>78.9</td>\n",
              "      <td>4.9671</td>\n",
              "      <td>2.0</td>\n",
              "      <td>242.0</td>\n",
              "      <td>17.8</td>\n",
              "      <td>9.14</td>\n",
              "      <td>21.6</td>\n",
              "    </tr>\n",
              "    <tr>\n",
              "      <th>7</th>\n",
              "      <td>7</td>\n",
              "      <td>0.14455</td>\n",
              "      <td>12.5</td>\n",
              "      <td>7.87</td>\n",
              "      <td>0.0</td>\n",
              "      <td>0.524</td>\n",
              "      <td>6.172</td>\n",
              "      <td>96.1</td>\n",
              "      <td>5.9505</td>\n",
              "      <td>5.0</td>\n",
              "      <td>311.0</td>\n",
              "      <td>15.2</td>\n",
              "      <td>19.15</td>\n",
              "      <td>27.1</td>\n",
              "    </tr>\n",
              "    <tr>\n",
              "      <th>8</th>\n",
              "      <td>8</td>\n",
              "      <td>0.21124</td>\n",
              "      <td>12.5</td>\n",
              "      <td>7.87</td>\n",
              "      <td>0.0</td>\n",
              "      <td>0.524</td>\n",
              "      <td>5.631</td>\n",
              "      <td>100.0</td>\n",
              "      <td>6.0821</td>\n",
              "      <td>5.0</td>\n",
              "      <td>311.0</td>\n",
              "      <td>15.2</td>\n",
              "      <td>29.93</td>\n",
              "      <td>16.5</td>\n",
              "    </tr>\n",
              "    <tr>\n",
              "      <th>9</th>\n",
              "      <td>9</td>\n",
              "      <td>0.17004</td>\n",
              "      <td>12.5</td>\n",
              "      <td>7.87</td>\n",
              "      <td>0.0</td>\n",
              "      <td>0.524</td>\n",
              "      <td>6.004</td>\n",
              "      <td>85.9</td>\n",
              "      <td>6.5921</td>\n",
              "      <td>5.0</td>\n",
              "      <td>311.0</td>\n",
              "      <td>15.2</td>\n",
              "      <td>17.10</td>\n",
              "      <td>18.9</td>\n",
              "    </tr>\n",
              "    <tr>\n",
              "      <th>10</th>\n",
              "      <td>10</td>\n",
              "      <td>0.22489</td>\n",
              "      <td>12.5</td>\n",
              "      <td>7.87</td>\n",
              "      <td>0.0</td>\n",
              "      <td>0.524</td>\n",
              "      <td>6.377</td>\n",
              "      <td>94.3</td>\n",
              "      <td>6.3467</td>\n",
              "      <td>5.0</td>\n",
              "      <td>311.0</td>\n",
              "      <td>15.2</td>\n",
              "      <td>20.45</td>\n",
              "      <td>15.0</td>\n",
              "    </tr>\n",
              "    <tr>\n",
              "      <th>...</th>\n",
              "      <td>...</td>\n",
              "      <td>...</td>\n",
              "      <td>...</td>\n",
              "      <td>...</td>\n",
              "      <td>...</td>\n",
              "      <td>...</td>\n",
              "      <td>...</td>\n",
              "      <td>...</td>\n",
              "      <td>...</td>\n",
              "      <td>...</td>\n",
              "      <td>...</td>\n",
              "      <td>...</td>\n",
              "      <td>...</td>\n",
              "      <td>...</td>\n",
              "    </tr>\n",
              "    <tr>\n",
              "      <th>500</th>\n",
              "      <td>500</td>\n",
              "      <td>0.22438</td>\n",
              "      <td>0.0</td>\n",
              "      <td>9.69</td>\n",
              "      <td>0.0</td>\n",
              "      <td>0.585</td>\n",
              "      <td>6.027</td>\n",
              "      <td>79.7</td>\n",
              "      <td>2.4982</td>\n",
              "      <td>6.0</td>\n",
              "      <td>391.0</td>\n",
              "      <td>19.2</td>\n",
              "      <td>14.33</td>\n",
              "      <td>16.8</td>\n",
              "    </tr>\n",
              "    <tr>\n",
              "      <th>502</th>\n",
              "      <td>502</td>\n",
              "      <td>0.04527</td>\n",
              "      <td>0.0</td>\n",
              "      <td>11.93</td>\n",
              "      <td>0.0</td>\n",
              "      <td>0.573</td>\n",
              "      <td>6.120</td>\n",
              "      <td>76.7</td>\n",
              "      <td>2.2875</td>\n",
              "      <td>1.0</td>\n",
              "      <td>273.0</td>\n",
              "      <td>21.0</td>\n",
              "      <td>9.08</td>\n",
              "      <td>20.6</td>\n",
              "    </tr>\n",
              "    <tr>\n",
              "      <th>503</th>\n",
              "      <td>503</td>\n",
              "      <td>0.06076</td>\n",
              "      <td>0.0</td>\n",
              "      <td>11.93</td>\n",
              "      <td>0.0</td>\n",
              "      <td>0.573</td>\n",
              "      <td>6.976</td>\n",
              "      <td>91.0</td>\n",
              "      <td>2.1675</td>\n",
              "      <td>1.0</td>\n",
              "      <td>273.0</td>\n",
              "      <td>21.0</td>\n",
              "      <td>5.64</td>\n",
              "      <td>23.9</td>\n",
              "    </tr>\n",
              "    <tr>\n",
              "      <th>504</th>\n",
              "      <td>504</td>\n",
              "      <td>0.10959</td>\n",
              "      <td>0.0</td>\n",
              "      <td>11.93</td>\n",
              "      <td>0.0</td>\n",
              "      <td>0.573</td>\n",
              "      <td>6.794</td>\n",
              "      <td>89.3</td>\n",
              "      <td>2.3889</td>\n",
              "      <td>1.0</td>\n",
              "      <td>273.0</td>\n",
              "      <td>21.0</td>\n",
              "      <td>6.48</td>\n",
              "      <td>22.0</td>\n",
              "    </tr>\n",
              "    <tr>\n",
              "      <th>505</th>\n",
              "      <td>505</td>\n",
              "      <td>0.04741</td>\n",
              "      <td>0.0</td>\n",
              "      <td>11.93</td>\n",
              "      <td>0.0</td>\n",
              "      <td>0.573</td>\n",
              "      <td>6.030</td>\n",
              "      <td>80.8</td>\n",
              "      <td>2.5050</td>\n",
              "      <td>1.0</td>\n",
              "      <td>273.0</td>\n",
              "      <td>21.0</td>\n",
              "      <td>7.88</td>\n",
              "      <td>11.9</td>\n",
              "    </tr>\n",
              "  </tbody>\n",
              "</table>\n",
              "<p>287 rows × 14 columns</p>\n",
              "</div>"
            ],
            "text/plain": [
              "     Unnamed: 0     CRIM    ZN  INDUS  CHAS    NOX     RM    AGE     DIS  RAD  \\\n",
              "1             1  0.02731   0.0   7.07   0.0  0.469  6.421   78.9  4.9671  2.0   \n",
              "7             7  0.14455  12.5   7.87   0.0  0.524  6.172   96.1  5.9505  5.0   \n",
              "8             8  0.21124  12.5   7.87   0.0  0.524  5.631  100.0  6.0821  5.0   \n",
              "9             9  0.17004  12.5   7.87   0.0  0.524  6.004   85.9  6.5921  5.0   \n",
              "10           10  0.22489  12.5   7.87   0.0  0.524  6.377   94.3  6.3467  5.0   \n",
              "..          ...      ...   ...    ...   ...    ...    ...    ...     ...  ...   \n",
              "500         500  0.22438   0.0   9.69   0.0  0.585  6.027   79.7  2.4982  6.0   \n",
              "502         502  0.04527   0.0  11.93   0.0  0.573  6.120   76.7  2.2875  1.0   \n",
              "503         503  0.06076   0.0  11.93   0.0  0.573  6.976   91.0  2.1675  1.0   \n",
              "504         504  0.10959   0.0  11.93   0.0  0.573  6.794   89.3  2.3889  1.0   \n",
              "505         505  0.04741   0.0  11.93   0.0  0.573  6.030   80.8  2.5050  1.0   \n",
              "\n",
              "       TAX  PTRATIO  LSTAT  MEDV  \n",
              "1    242.0     17.8   9.14  21.6  \n",
              "7    311.0     15.2  19.15  27.1  \n",
              "8    311.0     15.2  29.93  16.5  \n",
              "9    311.0     15.2  17.10  18.9  \n",
              "10   311.0     15.2  20.45  15.0  \n",
              "..     ...      ...    ...   ...  \n",
              "500  391.0     19.2  14.33  16.8  \n",
              "502  273.0     21.0   9.08  20.6  \n",
              "503  273.0     21.0   5.64  23.9  \n",
              "504  273.0     21.0   6.48  22.0  \n",
              "505  273.0     21.0   7.88  11.9  \n",
              "\n",
              "[287 rows x 14 columns]"
            ]
          },
          "execution_count": 11,
          "metadata": {},
          "output_type": "execute_result"
        }
      ],
      "source": [
        "older_70 = boston_house.loc[boston_house.AGE >70 ]\n",
        "older_70\n",
        "#age variable groups older than 70 years\n"
      ]
    },
    {
      "cell_type": "code",
      "execution_count": null,
      "id": "40616036",
      "metadata": {
        "id": "40616036"
      },
      "outputs": [],
      "source": [
        ""
      ]
    },
    {
      "cell_type": "markdown",
      "id": "f9d581a2",
      "metadata": {
        "id": "f9d581a2"
      },
      "source": [
        "### Boxplot for the MEDV variable vs the AGE variable"
      ]
    },
    {
      "cell_type": "code",
      "execution_count": null,
      "id": "b8f3dee2",
      "metadata": {
        "id": "b8f3dee2",
        "outputId": "67bf8597-3b85-4759-f40e-73cacc387449"
      },
      "outputs": [
        {
          "data": {
            "image/png": "[encoded data removed]",
            "text/plain": [
              "<Figure size 432x288 with 1 Axes>"
            ]
          },
          "metadata": {
            "needs_background": "light"
          },
          "output_type": "display_data"
        }
      ],
      "source": [
        "MEDV_vs_Age_under35 = younger_35.boxplot(column=['MEDV','AGE'])"
      ]
    },
    {
      "cell_type": "code",
      "execution_count": null,
      "id": "f41782cc",
      "metadata": {
        "id": "f41782cc",
        "outputId": "a7fa43bd-c012-4111-eb16-ae20d6834eae"
      },
      "outputs": [
        {
          "data": {
            "image/png": "[encoded data removed]",
            "text/plain": [
              "<Figure size 432x288 with 1 Axes>"
            ]
          },
          "metadata": {
            "needs_background": "light"
          },
          "output_type": "display_data"
        }
      ],
      "source": [
        "MEDV_vs_Age_btw35and70 = younger_70.boxplot(column=['MEDV','AGE'])"
      ]
    },
    {
      "cell_type": "code",
      "execution_count": null,
      "id": "431ad8f9",
      "metadata": {
        "id": "431ad8f9",
        "outputId": "6d0db61d-6774-4b84-d7a1-86630749f4c5"
      },
      "outputs": [
        {
          "data": {
            "image/png": "[encoded data removed]",
            "text/plain": [
              "<Figure size 432x288 with 1 Axes>"
            ]
          },
          "metadata": {
            "needs_background": "light"
          },
          "output_type": "display_data"
        }
      ],
      "source": [
        "MEDV_vs_Age_older70 = older_70.boxplot(column=['MEDV','AGE'])"
      ]
    },
    {
      "cell_type": "code",
      "execution_count": null,
      "id": "89b807a0",
      "metadata": {
        "id": "89b807a0"
      },
      "outputs": [],
      "source": [
        ""
      ]
    },
    {
      "cell_type": "markdown",
      "id": "e242986d",
      "metadata": {
        "id": "e242986d"
      },
      "source": [
        "### scatter plot to show the relationship between Nitric oxide concentrations and the proportion of non-retail business acres per town"
      ]
    },
    {
      "cell_type": "code",
      "execution_count": null,
      "id": "0edd64d4",
      "metadata": {
        "id": "0edd64d4",
        "outputId": "fea15bcf-4a43-4b3c-b857-ec5daf2f7862"
      },
      "outputs": [
        {
          "data": {
            "image/png": "[encoded data removed]",
            "text/plain": [
              "<Figure size 432x288 with 1 Axes>"
            ]
          },
          "metadata": {
            "needs_background": "light"
          },
          "output_type": "display_data"
        }
      ],
      "source": [
        "scatter = boston_house.plot.scatter(x='INDUS',\n",
        "                      y='NOX',\n",
        "                      c='DarkBlue')"
      ]
    },
    {
      "cell_type": "markdown",
      "id": "6b2c2171",
      "metadata": {
        "id": "6b2c2171"
      },
      "source": [
        "From the above scatter plot, it seems there is a positive correlation between the Nitric Oxide concentrations and the propotion of non-retail business acres per town. In other words, the higher the Nitric Oxide concentration, the lower the number of retail business acres per town. The Nitric Oxide concentration has a negative effect on the amount of retail businesses in town"
      ]
    },
    {
      "cell_type": "code",
      "execution_count": null,
      "id": "c8ee183c",
      "metadata": {
        "id": "c8ee183c",
        "outputId": "3af9b7f8-b524-402f-f063-a8b70cb734db"
      },
      "outputs": [
        {
          "data": {
            "text/plain": [
              "(array([ 15.,   2.,  58.,  15.,  35.,  69.,  76.,  40., 178.,  18.]),\n",
              " array([12.6 , 13.54, 14.48, 15.42, 16.36, 17.3 , 18.24, 19.18, 20.12,\n",
              "        21.06, 22.  ]),\n",
              " <BarContainer object of 10 artists>)"
            ]
          },
          "execution_count": 16,
          "metadata": {},
          "output_type": "execute_result"
        },
        {
          "data": {
            "image/png": "[encoded data removed]",
            "text/plain": [
              "<Figure size 432x288 with 1 Axes>"
            ]
          },
          "metadata": {
            "needs_background": "light"
          },
          "output_type": "display_data"
        }
      ],
      "source": [
        "pyplot.hist(boston_house['PTRATIO'])"
      ]
    },
    {
      "cell_type": "markdown",
      "id": "d5361636",
      "metadata": {
        "id": "d5361636"
      },
      "source": [
        "The above distribution has a negative skewness where the median is larger than the mean"
      ]
    },
    {
      "cell_type": "code",
      "execution_count": null,
      "id": "2b9eaa87",
      "metadata": {
        "id": "2b9eaa87"
      },
      "outputs": [],
      "source": [
        ""
      ]
    },
    {
      "cell_type": "markdown",
      "id": "49b2628e",
      "metadata": {
        "id": "49b2628e"
      },
      "source": [
        "## Task 5: Use the appropriate tests to answer the questions provided.  \n",
        "For each of the following questions;  \n",
        "\n",
        "Is there a significant difference in median value of houses bounded by the Charles river or not? (T-test for independent samples)  \n",
        "\n",
        "Is there a difference in Median values of houses (MEDV) for each proportion of owner occupied units built prior to 1940 (AGE)? (ANOVA)  \n",
        "\n",
        "Can we conclude that there is no relationship between Nitric oxide concentrations and proportion of non-retail business acres per town? (Pearson Correlation)  \n",
        "\n",
        "What is the impact of an additional weighted distance  to the five Boston employment centres on the median value of owner occupied homes? (Regression analysis)  \n",
        "\n",
        "Be sure to:  \n",
        "\n",
        "State your hypothesis.  \n",
        "\n",
        "Use α = 0.05  \n",
        "\n",
        "Perform the test Statistics.  \n",
        "\n",
        "State the conclusion from the test.  "
      ]
    },
    {
      "cell_type": "markdown",
      "id": "8c31d114",
      "metadata": {
        "id": "8c31d114"
      },
      "source": [
        "## No. 1 T-Test:   \n",
        "Using the Boston Housing Data We need to check if there a significant difference in median value of houses bounded by the Charles river or not?  \n",
        "ASSUMPTIONS - \n",
        "\n",
        "t-test will be used for independent samples. For the independent t-test, the following assumptions must be met.  \n",
        "\n",
        "One independent, categorical variable with two levels or group.    \n",
        "One dependent continuous variable.   \n",
        "Independence of the observations. Each subject should belong to only one group. There is no relationship between the observations in each group.  \n",
        "The dependent variable must follow a normal distribution  \n",
        "Assumption of homogeneity of variance  "
      ]
    },
    {
      "cell_type": "markdown",
      "id": "d00193c3",
      "metadata": {
        "id": "d00193c3"
      },
      "source": [
        "### Hypothesis\n",
        "\n",
        "H0:µ1=µ2  (\"there is no difference in median value of houses bounded by the Charles river\")  \n",
        "H1:µ1≠µ2  (\"there is a difference in median value of houses bounded by the Charles river\")"
      ]
    },
    {
      "cell_type": "markdown",
      "id": "4a7f1294",
      "metadata": {
        "id": "4a7f1294"
      },
      "source": [
        "Using the ttest_ind from the scipy_stats library"
      ]
    },
    {
      "cell_type": "code",
      "execution_count": null,
      "id": "e292a003",
      "metadata": {
        "id": "e292a003",
        "outputId": "7e5a750e-deb9-4599-aecd-d02dd63423f5"
      },
      "outputs": [
        {
          "data": {
            "text/plain": [
              "Ttest_indResult(statistic=54.9210289745203, pvalue=1.4651540072350996e-305)"
            ]
          },
          "execution_count": 18,
          "metadata": {},
          "output_type": "execute_result"
        }
      ],
      "source": [
        "ttest = scipy.stats.ttest_ind(boston_house['MEDV'], boston_house['CHAS'])\n",
        "ttest"
      ]
    },
    {
      "cell_type": "markdown",
      "id": "47c0a2ec",
      "metadata": {
        "id": "47c0a2ec"
      },
      "source": [
        "### Interpretation  \n",
        "Since the above p-value is far less than assumed alpha value of 0.05, we reject the null hypothesis as there is enough proof that there is a statistical difference in in median value of houses bounded by the Charles river"
      ]
    },
    {
      "cell_type": "code",
      "execution_count": null,
      "id": "52e3ff16",
      "metadata": {
        "id": "52e3ff16"
      },
      "outputs": [],
      "source": [
        ""
      ]
    },
    {
      "cell_type": "markdown",
      "id": "0c203184",
      "metadata": {
        "id": "0c203184"
      },
      "source": [
        "## No. 2 ANOVA:  \n",
        "If there is a difference in Median values of houses (MEDV) for each proportion of owner occupied units built prior to 1940 (AGE).  \n",
        "First, we group the data into different age categories as the one-way ANOVA can't work with continuous variable.\n",
        "\n",
        "35 years and younger  \n",
        "Between 35 and 70 years  \n",
        "70 years and older  \n",
        "\n"
      ]
    },
    {
      "cell_type": "code",
      "execution_count": null,
      "id": "64246e7b",
      "metadata": {
        "id": "64246e7b"
      },
      "outputs": [],
      "source": [
        "boston_house.loc[boston_house['AGE'] <= 30, 'Age_Group'] = \"35 & younger\"\n",
        "boston_house.loc[(boston_house['AGE'] > 30) & (boston_house['AGE'] < 70), 'Age_Group'] = \"Between 35 & 70\"\n",
        "boston_house.loc[(boston_house['AGE'] >= 70), 'Age_Group'] = \"70 & older\""
      ]
    },
    {
      "cell_type": "markdown",
      "id": "11d4b1b2",
      "metadata": {
        "id": "11d4b1b2"
      },
      "source": [
        "### Hypothesis\n",
        "\n",
        "H0:µ1=µ2=µ3  (the three population medians are equal)  \n",
        "H1:  At least one of the medians differ"
      ]
    },
    {
      "cell_type": "code",
      "execution_count": null,
      "id": "5ec8be19",
      "metadata": {
        "id": "5ec8be19",
        "outputId": "83916dc3-84f6-45a3-b976-b9c986ea166e"
      },
      "outputs": [
        {
          "data": {
            "text/plain": [
              "LeveneResult(statistic=2.767459169827219, pvalue=0.06377821200332309)"
            ]
          },
          "execution_count": 27,
          "metadata": {},
          "output_type": "execute_result"
        }
      ],
      "source": [
        "#Test for equality of variance. I will use Levene’s test to check the assumption of \n",
        "#equal variances before running a One-Way ANOVA test.\n",
        "scipy.stats.levene(boston_house[boston_house['Age_Group'] == \"35 & younger\"]['MEDV'],\n",
        "                   boston_house[boston_house['Age_Group'] == \"Between 35 & 70\"]['MEDV'], \n",
        "                   boston_house[boston_house['Age_Group'] == \"70 & older\"]['MEDV'], \n",
        "                   center='median')"
      ]
    },
    {
      "cell_type": "markdown",
      "id": "af4b91dd",
      "metadata": {
        "id": "af4b91dd"
      },
      "source": [
        "### Interpretation  \n",
        "Since the p-value is larger than the alpha level(0.05), then i can say that the null hypothesis stands —   \n",
        "that the variances are equal. For the purpose of this exercise, i will continue with analysis."
      ]
    },
    {
      "cell_type": "code",
      "execution_count": null,
      "id": "89109728",
      "metadata": {
        "id": "89109728"
      },
      "outputs": [],
      "source": [
        ""
      ]
    },
    {
      "cell_type": "markdown",
      "id": "9d09cd4a",
      "metadata": {
        "id": "9d09cd4a"
      },
      "source": [
        "To run the One-Way ANOVA test, First, i will separate the three samples (one for each category) into three variables."
      ]
    },
    {
      "cell_type": "code",
      "execution_count": null,
      "id": "c6df4dad",
      "metadata": {
        "id": "c6df4dad"
      },
      "outputs": [],
      "source": [
        "younger_35 = boston_house[boston_house['Age_Group'] == \"35 & younger\"]['MEDV']\n",
        "younger_70 = boston_house[boston_house['Age_Group'] == \"Between 35 & 70\"]['MEDV'] \n",
        "older_70 = boston_house[boston_house['Age_Group'] == \"70 & older\"]['MEDV'] "
      ]
    },
    {
      "cell_type": "code",
      "execution_count": null,
      "id": "f1c37d72",
      "metadata": {
        "id": "f1c37d72",
        "outputId": "bd905f51-a8a0-4111-cabc-5e41b69f9119"
      },
      "outputs": [
        {
          "data": {
            "text/plain": [
              "F_onewayResult(statistic=34.249179272635395, pvalue=1.135217093487225e-14)"
            ]
          },
          "execution_count": 29,
          "metadata": {},
          "output_type": "execute_result"
        }
      ],
      "source": [
        "scipy.stats.f_oneway(younger_35, younger_70, older_70)"
      ]
    },
    {
      "cell_type": "markdown",
      "id": "bcfe09d8",
      "metadata": {
        "id": "bcfe09d8"
      },
      "source": [
        "### Conclusion: \n",
        "Since the p-value is less than 0.05, we will reject the null hypothesis as there is significant evidence \n",
        "that at least one of the medians differ."
      ]
    },
    {
      "cell_type": "code",
      "execution_count": null,
      "id": "6e5920be",
      "metadata": {
        "id": "6e5920be"
      },
      "outputs": [],
      "source": [
        ""
      ]
    },
    {
      "cell_type": "markdown",
      "id": "2e1e1313",
      "metadata": {
        "id": "2e1e1313"
      },
      "source": [
        "## No. 3 Pearson Correlation\n",
        "\n",
        "Can we conclude that there is no relationship between Nitric oxide concentrations and proportion of non-retail business acres per town?"
      ]
    },
    {
      "cell_type": "markdown",
      "id": "7958d44f",
      "metadata": {
        "id": "7958d44f"
      },
      "source": [
        "### Hypothesis:\n",
        "\n",
        "H0:  There is no relationship between Nitric oxide concentrations and proportion of non-retail business acres per town.  \n",
        "H1:  There is a relationship between Nitric oxide concentrations and proportion of non-retail business acres per town.  \n"
      ]
    },
    {
      "cell_type": "code",
      "execution_count": null,
      "id": "0fd3eec9",
      "metadata": {
        "id": "0fd3eec9",
        "outputId": "c3fa0ee4-ded9-4f6a-e016-b585cbbeb098"
      },
      "outputs": [
        {
          "data": {
            "image/png": "[encoded data removed]",
            "text/plain": [
              "<Figure size 432x288 with 1 Axes>"
            ]
          },
          "metadata": {
            "needs_background": "light"
          },
          "output_type": "display_data"
        }
      ],
      "source": [
        "ax = sns.scatterplot(x=\"NOX\", y=\"INDUS\", data=boston_house)"
      ]
    },
    {
      "cell_type": "code",
      "execution_count": null,
      "id": "c18bae84",
      "metadata": {
        "id": "c18bae84",
        "outputId": "ddc03f46-9cb1-496e-fc13-a1bfd87b5414"
      },
      "outputs": [
        {
          "data": {
            "text/plain": [
              "(0.7636514469209154, 7.913361061236894e-98)"
            ]
          },
          "execution_count": 31,
          "metadata": {},
          "output_type": "execute_result"
        }
      ],
      "source": [
        "scipy.stats.pearsonr(boston_house['INDUS'], boston_house['NOX'])"
      ]
    },
    {
      "cell_type": "markdown",
      "id": "fac30043",
      "metadata": {
        "id": "fac30043"
      },
      "source": [
        "### Conclusion:   \n",
        "From the above scatter plot and the p-value being less than 0.05, i can conclude there is a positive correlation between the Nitric Oxide concentrations and the propotion of non-retail business acres per town. In other words, the higher the Nitric Oxide concentration, the lower the number of retail business acres per town. The Nitric Oxide concentration has a negative effect on the amount of retail businesses in town"
      ]
    },
    {
      "cell_type": "code",
      "execution_count": null,
      "id": "9c5f18d9",
      "metadata": {
        "id": "9c5f18d9"
      },
      "outputs": [],
      "source": [
        ""
      ]
    },
    {
      "cell_type": "markdown",
      "id": "6502191a",
      "metadata": {
        "id": "6502191a"
      },
      "source": [
        "## No. 4 Regression analysis  \n",
        "What is the impact of an additional weighted distance to the five Boston employment centres on the median value of owner occupied homes?"
      ]
    },
    {
      "cell_type": "markdown",
      "id": "afe890a0",
      "metadata": {
        "id": "afe890a0"
      },
      "source": [
        "### Hypothesis:\n",
        "\n",
        "𝐻0  = additional weighted distance to the five Boston employment centres has no impact on the median value of owner occupied homes    \n",
        "𝐻1 =  additional weighted distance to the five Boston employment centres has an impact on the median value of owner occupied homes  "
      ]
    },
    {
      "cell_type": "code",
      "execution_count": null,
      "id": "ec484c85",
      "metadata": {
        "id": "ec484c85",
        "outputId": "0dc66e29-681a-4e96-cc03-7e1312518eda"
      },
      "outputs": [
        {
          "data": {
            "text/html": [
              "<table class=\"simpletable\">\n",
              "<caption>OLS Regression Results</caption>\n",
              "<tr>\n",
              "  <th>Dep. Variable:</th>          <td>MEDV</td>       <th>  R-squared:         </th> <td>   0.062</td>\n",
              "</tr>\n",
              "<tr>\n",
              "  <th>Model:</th>                   <td>OLS</td>       <th>  Adj. R-squared:    </th> <td>   0.061</td>\n",
              "</tr>\n",
              "<tr>\n",
              "  <th>Method:</th>             <td>Least Squares</td>  <th>  F-statistic:       </th> <td>   33.58</td>\n",
              "</tr>\n",
              "<tr>\n",
              "  <th>Date:</th>             <td>Sun, 19 Sep 2021</td> <th>  Prob (F-statistic):</th> <td>1.21e-08</td>\n",
              "</tr>\n",
              "<tr>\n",
              "  <th>Time:</th>                 <td>11:24:24</td>     <th>  Log-Likelihood:    </th> <td> -1823.9</td>\n",
              "</tr>\n",
              "<tr>\n",
              "  <th>No. Observations:</th>      <td>   506</td>      <th>  AIC:               </th> <td>   3652.</td>\n",
              "</tr>\n",
              "<tr>\n",
              "  <th>Df Residuals:</th>          <td>   504</td>      <th>  BIC:               </th> <td>   3660.</td>\n",
              "</tr>\n",
              "<tr>\n",
              "  <th>Df Model:</th>              <td>     1</td>      <th>                     </th>     <td> </td>   \n",
              "</tr>\n",
              "<tr>\n",
              "  <th>Covariance Type:</th>      <td>nonrobust</td>    <th>                     </th>     <td> </td>   \n",
              "</tr>\n",
              "</table>\n",
              "<table class=\"simpletable\">\n",
              "<tr>\n",
              "    <td></td>       <th>coef</th>     <th>std err</th>      <th>t</th>      <th>P>|t|</th>  <th>[0.025</th>    <th>0.975]</th>  \n",
              "</tr>\n",
              "<tr>\n",
              "  <th>const</th> <td>   18.3901</td> <td>    0.817</td> <td>   22.499</td> <td> 0.000</td> <td>   16.784</td> <td>   19.996</td>\n",
              "</tr>\n",
              "<tr>\n",
              "  <th>DIS</th>   <td>    1.0916</td> <td>    0.188</td> <td>    5.795</td> <td> 0.000</td> <td>    0.722</td> <td>    1.462</td>\n",
              "</tr>\n",
              "</table>\n",
              "<table class=\"simpletable\">\n",
              "<tr>\n",
              "  <th>Omnibus:</th>       <td>139.779</td> <th>  Durbin-Watson:     </th> <td>   0.570</td>\n",
              "</tr>\n",
              "<tr>\n",
              "  <th>Prob(Omnibus):</th> <td> 0.000</td>  <th>  Jarque-Bera (JB):  </th> <td> 305.104</td>\n",
              "</tr>\n",
              "<tr>\n",
              "  <th>Skew:</th>          <td> 1.466</td>  <th>  Prob(JB):          </th> <td>5.59e-67</td>\n",
              "</tr>\n",
              "<tr>\n",
              "  <th>Kurtosis:</th>      <td> 5.424</td>  <th>  Cond. No.          </th> <td>    9.32</td>\n",
              "</tr>\n",
              "</table><br/><br/>Notes:<br/>[1] Standard Errors assume that the covariance matrix of the errors is correctly specified."
            ],
            "text/plain": [
              "<class 'statsmodels.iolib.summary.Summary'>\n",
              "\"\"\"\n",
              "                            OLS Regression Results                            \n",
              "==============================================================================\n",
              "Dep. Variable:                   MEDV   R-squared:                       0.062\n",
              "Model:                            OLS   Adj. R-squared:                  0.061\n",
              "Method:                 Least Squares   F-statistic:                     33.58\n",
              "Date:                Sun, 19 Sep 2021   Prob (F-statistic):           1.21e-08\n",
              "Time:                        11:24:24   Log-Likelihood:                -1823.9\n",
              "No. Observations:                 506   AIC:                             3652.\n",
              "Df Residuals:                     504   BIC:                             3660.\n",
              "Df Model:                           1                                         \n",
              "Covariance Type:            nonrobust                                         \n",
              "==============================================================================\n",
              "                 coef    std err          t      P>|t|      [0.025      0.975]\n",
              "------------------------------------------------------------------------------\n",
              "const         18.3901      0.817     22.499      0.000      16.784      19.996\n",
              "DIS            1.0916      0.188      5.795      0.000       0.722       1.462\n",
              "==============================================================================\n",
              "Omnibus:                      139.779   Durbin-Watson:                   0.570\n",
              "Prob(Omnibus):                  0.000   Jarque-Bera (JB):              305.104\n",
              "Skew:                           1.466   Prob(JB):                     5.59e-67\n",
              "Kurtosis:                       5.424   Cond. No.                         9.32\n",
              "==============================================================================\n",
              "\n",
              "Notes:\n",
              "[1] Standard Errors assume that the covariance matrix of the errors is correctly specified.\n",
              "\"\"\""
            ]
          },
          "execution_count": 38,
          "metadata": {},
          "output_type": "execute_result"
        }
      ],
      "source": [
        "## X is the input variables (or independent variables)\n",
        "X = boston_house['DIS']\n",
        "## y is the target/dependent variable\n",
        "y = boston_house['MEDV']\n",
        "## add an intercept (beta_0) to our model\n",
        "X = sm.add_constant(X) \n",
        "\n",
        "model = sm.OLS(y, X).fit()\n",
        "predictions = model.predict(X)\n",
        "\n",
        "# Print out the statistics\n",
        "model.summary()"
      ]
    },
    {
      "cell_type": "markdown",
      "id": "a1e0badd",
      "metadata": {
        "id": "a1e0badd"
      },
      "source": [
        "### Conclusion:   \n",
        "\n",
        "The p-value is less than the alpha (α) level of 0.05, so we reject the null hypothesis as there is evidence that an additional weighted distance to the five Boston employment centres has an impact on the median value of owner occupied home."
      ]
    },
    {
      "cell_type": "code",
      "execution_count": null,
      "id": "f9ba773e",
      "metadata": {
        "id": "f9ba773e"
      },
      "outputs": [],
      "source": [
        ""
      ]
    }
  ],
  "metadata": {
    "kernelspec": {
      "display_name": "Python 3",
      "language": "python",
      "name": "python3"
    },
    "language_info": {
      "codemirror_mode": {
        "name": "ipython",
        "version": 3
      },
      "file_extension": ".py",
      "mimetype": "text/x-python",
      "name": "python",
      "nbconvert_exporter": "python",
      "pygments_lexer": "ipython3",
      "version": "3.9.0"
    },
    "colab": {
      "name": "IBM Python Statistics Project.ipynb",
      "provenance": [],
      "include_colab_link": true
    }
  },
  "nbformat": 4,
  "nbformat_minor": 5
}